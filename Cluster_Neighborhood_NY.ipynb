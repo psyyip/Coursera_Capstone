{
    "nbformat_minor": 1, 
    "cells": [
        {
            "source": "## Introduction\n\nThis Notebook builds the code to scrape the following Wikipedia page, https://en.wikipedia.org/wiki/List_of_postal_codes_of_Canada:_M, in order to obtain the neighborhoods in Toronto in a form of DataFrame\n", 
            "cell_type": "markdown", 
            "metadata": {}
        }, 
        {
            "execution_count": 1, 
            "cell_type": "code", 
            "metadata": {}, 
            "outputs": [], 
            "source": "from bs4 import BeautifulSoup\nimport pandas as pd\nimport numpy as np\nimport requests"
        }, 
        {
            "source": "## 1. Scrape the Wikipedia page and convert data into a DataFrame", 
            "cell_type": "markdown", 
            "metadata": {}
        }, 
        {
            "source": "Find the first table in the webpage, scrape all the data and store data in a DataFrame", 
            "cell_type": "markdown", 
            "metadata": {}
        }, 
        {
            "execution_count": 2, 
            "cell_type": "code", 
            "metadata": {
                "scrolled": true
            }, 
            "outputs": [], 
            "source": "source  = requests.get('https://en.wikipedia.org/wiki/List_of_postal_codes_of_Canada:_M').text\nsoup = BeautifulSoup(source, 'lxml')\nneigh = soup.find_all('table')[0]\nnew_table = pd.DataFrame(columns = ['PostalCode', 'Borough', 'Neighborhood'])\n\ntemp = pd.DataFrame([('','','')])\ntemp.columns = ['PostalCode', 'Borough', 'Neighborhood']\n\nfor row in neigh.find_all('tr'):\n    j = 0\n    columns = row.find_all('td')\n    for column in columns:\n        temp.iloc[0,j] = column.get_text().strip()\n        j+=1\n    new_table = new_table.append(temp)\n\n#remove the first redandunt row\nnew_table = new_table[1:]\nnew_table.reset_index(drop=True, inplace=True)\n"
        }, 
        {
            "source": "## 2. Clean the data", 
            "cell_type": "markdown", 
            "metadata": {}
        }, 
        {
            "source": "Remove row where Boroughs are \"Not assigned\". If a cell has a borough but a Not assigned neighborhood, then the neighborhood will be the same as the borough. ", 
            "cell_type": "markdown", 
            "metadata": {}
        }, 
        {
            "execution_count": 3, 
            "cell_type": "code", 
            "metadata": {}, 
            "outputs": [
                {
                    "execution_count": 3, 
                    "metadata": {}, 
                    "data": {
                        "text/html": "<div>\n<style scoped>\n    .dataframe tbody tr th:only-of-type {\n        vertical-align: middle;\n    }\n\n    .dataframe tbody tr th {\n        vertical-align: top;\n    }\n\n    .dataframe thead th {\n        text-align: right;\n    }\n</style>\n<table border=\"1\" class=\"dataframe\">\n  <thead>\n    <tr style=\"text-align: right;\">\n      <th></th>\n      <th>PostalCode</th>\n      <th>Borough</th>\n      <th>Neighborhood</th>\n    </tr>\n  </thead>\n  <tbody>\n    <tr>\n      <th>11</th>\n      <td>M1B</td>\n      <td>Scarborough</td>\n      <td>Rouge</td>\n    </tr>\n    <tr>\n      <th>12</th>\n      <td>M1B</td>\n      <td>Scarborough</td>\n      <td>Malvern</td>\n    </tr>\n    <tr>\n      <th>29</th>\n      <td>M1C</td>\n      <td>Scarborough</td>\n      <td>Port Union</td>\n    </tr>\n    <tr>\n      <th>28</th>\n      <td>M1C</td>\n      <td>Scarborough</td>\n      <td>Rouge Hill</td>\n    </tr>\n    <tr>\n      <th>27</th>\n      <td>M1C</td>\n      <td>Scarborough</td>\n      <td>Highland Creek</td>\n    </tr>\n    <tr>\n      <th>42</th>\n      <td>M1E</td>\n      <td>Scarborough</td>\n      <td>Guildwood</td>\n    </tr>\n    <tr>\n      <th>43</th>\n      <td>M1E</td>\n      <td>Scarborough</td>\n      <td>Morningside</td>\n    </tr>\n    <tr>\n      <th>44</th>\n      <td>M1E</td>\n      <td>Scarborough</td>\n      <td>West Hill</td>\n    </tr>\n    <tr>\n      <th>53</th>\n      <td>M1G</td>\n      <td>Scarborough</td>\n      <td>Scarborough</td>\n    </tr>\n    <tr>\n      <th>62</th>\n      <td>M1H</td>\n      <td>Scarborough</td>\n      <td>Cedarbrae</td>\n    </tr>\n    <tr>\n      <th>76</th>\n      <td>M1J</td>\n      <td>Scarborough</td>\n      <td>Scarborough Village</td>\n    </tr>\n    <tr>\n      <th>91</th>\n      <td>M1K</td>\n      <td>Scarborough</td>\n      <td>East Birchmount Park</td>\n    </tr>\n    <tr>\n      <th>92</th>\n      <td>M1K</td>\n      <td>Scarborough</td>\n      <td>Ionview</td>\n    </tr>\n    <tr>\n      <th>93</th>\n      <td>M1K</td>\n      <td>Scarborough</td>\n      <td>Kennedy Park</td>\n    </tr>\n    <tr>\n      <th>108</th>\n      <td>M1L</td>\n      <td>Scarborough</td>\n      <td>Golden Mile</td>\n    </tr>\n    <tr>\n      <th>109</th>\n      <td>M1L</td>\n      <td>Scarborough</td>\n      <td>Oakridge</td>\n    </tr>\n    <tr>\n      <th>107</th>\n      <td>M1L</td>\n      <td>Scarborough</td>\n      <td>Clairlea</td>\n    </tr>\n    <tr>\n      <th>123</th>\n      <td>M1M</td>\n      <td>Scarborough</td>\n      <td>Cliffcrest</td>\n    </tr>\n    <tr>\n      <th>125</th>\n      <td>M1M</td>\n      <td>Scarborough</td>\n      <td>Scarborough Village West</td>\n    </tr>\n    <tr>\n      <th>124</th>\n      <td>M1M</td>\n      <td>Scarborough</td>\n      <td>Cliffside</td>\n    </tr>\n    <tr>\n      <th>141</th>\n      <td>M1N</td>\n      <td>Scarborough</td>\n      <td>Cliffside West</td>\n    </tr>\n    <tr>\n      <th>140</th>\n      <td>M1N</td>\n      <td>Scarborough</td>\n      <td>Birch Cliff</td>\n    </tr>\n    <tr>\n      <th>153</th>\n      <td>M1P</td>\n      <td>Scarborough</td>\n      <td>Wexford Heights</td>\n    </tr>\n    <tr>\n      <th>151</th>\n      <td>M1P</td>\n      <td>Scarborough</td>\n      <td>Dorset Park</td>\n    </tr>\n    <tr>\n      <th>152</th>\n      <td>M1P</td>\n      <td>Scarborough</td>\n      <td>Scarborough Town Centre</td>\n    </tr>\n    <tr>\n      <th>164</th>\n      <td>M1R</td>\n      <td>Scarborough</td>\n      <td>Maryvale</td>\n    </tr>\n    <tr>\n      <th>165</th>\n      <td>M1R</td>\n      <td>Scarborough</td>\n      <td>Wexford</td>\n    </tr>\n    <tr>\n      <th>180</th>\n      <td>M1S</td>\n      <td>Scarborough</td>\n      <td>Agincourt</td>\n    </tr>\n    <tr>\n      <th>192</th>\n      <td>M1T</td>\n      <td>Scarborough</td>\n      <td>Sullivan</td>\n    </tr>\n    <tr>\n      <th>191</th>\n      <td>M1T</td>\n      <td>Scarborough</td>\n      <td>Clarks Corners</td>\n    </tr>\n    <tr>\n      <th>...</th>\n      <td>...</td>\n      <td>...</td>\n      <td>...</td>\n    </tr>\n    <tr>\n      <th>286</th>\n      <td>M8Z</td>\n      <td>Etobicoke</td>\n      <td>South of Bloor</td>\n    </tr>\n    <tr>\n      <th>285</th>\n      <td>M8Z</td>\n      <td>Etobicoke</td>\n      <td>Royal York South West</td>\n    </tr>\n    <tr>\n      <th>10</th>\n      <td>M9A</td>\n      <td>Etobicoke</td>\n      <td>Islington Avenue</td>\n    </tr>\n    <tr>\n      <th>22</th>\n      <td>M9B</td>\n      <td>Etobicoke</td>\n      <td>Cloverdale</td>\n    </tr>\n    <tr>\n      <th>26</th>\n      <td>M9B</td>\n      <td>Etobicoke</td>\n      <td>West Deane Park</td>\n    </tr>\n    <tr>\n      <th>25</th>\n      <td>M9B</td>\n      <td>Etobicoke</td>\n      <td>Princess Gardens</td>\n    </tr>\n    <tr>\n      <th>24</th>\n      <td>M9B</td>\n      <td>Etobicoke</td>\n      <td>Martin Grove</td>\n    </tr>\n    <tr>\n      <th>23</th>\n      <td>M9B</td>\n      <td>Etobicoke</td>\n      <td>Islington</td>\n    </tr>\n    <tr>\n      <th>41</th>\n      <td>M9C</td>\n      <td>Etobicoke</td>\n      <td>Old Burnhamthorpe</td>\n    </tr>\n    <tr>\n      <th>40</th>\n      <td>M9C</td>\n      <td>Etobicoke</td>\n      <td>Markland Wood</td>\n    </tr>\n    <tr>\n      <th>39</th>\n      <td>M9C</td>\n      <td>Etobicoke</td>\n      <td>Eringate</td>\n    </tr>\n    <tr>\n      <th>38</th>\n      <td>M9C</td>\n      <td>Etobicoke</td>\n      <td>Bloordale Gardens</td>\n    </tr>\n    <tr>\n      <th>122</th>\n      <td>M9L</td>\n      <td>North York</td>\n      <td>Humber Summit</td>\n    </tr>\n    <tr>\n      <th>139</th>\n      <td>M9M</td>\n      <td>North York</td>\n      <td>Humberlea</td>\n    </tr>\n    <tr>\n      <th>138</th>\n      <td>M9M</td>\n      <td>North York</td>\n      <td>Emery</td>\n    </tr>\n    <tr>\n      <th>150</th>\n      <td>M9N</td>\n      <td>York</td>\n      <td>Weston</td>\n    </tr>\n    <tr>\n      <th>163</th>\n      <td>M9P</td>\n      <td>Etobicoke</td>\n      <td>Westmount</td>\n    </tr>\n    <tr>\n      <th>178</th>\n      <td>M9R</td>\n      <td>Etobicoke</td>\n      <td>Richview Gardens</td>\n    </tr>\n    <tr>\n      <th>176</th>\n      <td>M9R</td>\n      <td>Etobicoke</td>\n      <td>Kingsview Village</td>\n    </tr>\n    <tr>\n      <th>179</th>\n      <td>M9R</td>\n      <td>Etobicoke</td>\n      <td>St. Phillips</td>\n    </tr>\n    <tr>\n      <th>177</th>\n      <td>M9R</td>\n      <td>Etobicoke</td>\n      <td>Martin Grove Gardens</td>\n    </tr>\n    <tr>\n      <th>228</th>\n      <td>M9V</td>\n      <td>Etobicoke</td>\n      <td>Albion Gardens</td>\n    </tr>\n    <tr>\n      <th>229</th>\n      <td>M9V</td>\n      <td>Etobicoke</td>\n      <td>Beaumond Heights</td>\n    </tr>\n    <tr>\n      <th>230</th>\n      <td>M9V</td>\n      <td>Etobicoke</td>\n      <td>Humbergate</td>\n    </tr>\n    <tr>\n      <th>231</th>\n      <td>M9V</td>\n      <td>Etobicoke</td>\n      <td>Jamestown</td>\n    </tr>\n    <tr>\n      <th>232</th>\n      <td>M9V</td>\n      <td>Etobicoke</td>\n      <td>Mount Olive</td>\n    </tr>\n    <tr>\n      <th>234</th>\n      <td>M9V</td>\n      <td>Etobicoke</td>\n      <td>South Steeles</td>\n    </tr>\n    <tr>\n      <th>235</th>\n      <td>M9V</td>\n      <td>Etobicoke</td>\n      <td>Thistletown</td>\n    </tr>\n    <tr>\n      <th>233</th>\n      <td>M9V</td>\n      <td>Etobicoke</td>\n      <td>Silverstone</td>\n    </tr>\n    <tr>\n      <th>245</th>\n      <td>M9W</td>\n      <td>Etobicoke</td>\n      <td>Northwest</td>\n    </tr>\n  </tbody>\n</table>\n<p>211 rows \u00d7 3 columns</p>\n</div>", 
                        "text/plain": "    PostalCode      Borough              Neighborhood\n11         M1B  Scarborough                     Rouge\n12         M1B  Scarborough                   Malvern\n29         M1C  Scarborough                Port Union\n28         M1C  Scarborough                Rouge Hill\n27         M1C  Scarborough            Highland Creek\n42         M1E  Scarborough                 Guildwood\n43         M1E  Scarborough               Morningside\n44         M1E  Scarborough                 West Hill\n53         M1G  Scarborough               Scarborough\n62         M1H  Scarborough                 Cedarbrae\n76         M1J  Scarborough       Scarborough Village\n91         M1K  Scarborough      East Birchmount Park\n92         M1K  Scarborough                   Ionview\n93         M1K  Scarborough              Kennedy Park\n108        M1L  Scarborough               Golden Mile\n109        M1L  Scarborough                  Oakridge\n107        M1L  Scarborough                  Clairlea\n123        M1M  Scarborough                Cliffcrest\n125        M1M  Scarborough  Scarborough Village West\n124        M1M  Scarborough                 Cliffside\n141        M1N  Scarborough            Cliffside West\n140        M1N  Scarborough               Birch Cliff\n153        M1P  Scarborough           Wexford Heights\n151        M1P  Scarborough               Dorset Park\n152        M1P  Scarborough   Scarborough Town Centre\n164        M1R  Scarborough                  Maryvale\n165        M1R  Scarborough                   Wexford\n180        M1S  Scarborough                 Agincourt\n192        M1T  Scarborough                  Sullivan\n191        M1T  Scarborough            Clarks Corners\n..         ...          ...                       ...\n286        M8Z    Etobicoke            South of Bloor\n285        M8Z    Etobicoke     Royal York South West\n10         M9A    Etobicoke          Islington Avenue\n22         M9B    Etobicoke                Cloverdale\n26         M9B    Etobicoke           West Deane Park\n25         M9B    Etobicoke          Princess Gardens\n24         M9B    Etobicoke              Martin Grove\n23         M9B    Etobicoke                 Islington\n41         M9C    Etobicoke         Old Burnhamthorpe\n40         M9C    Etobicoke             Markland Wood\n39         M9C    Etobicoke                  Eringate\n38         M9C    Etobicoke         Bloordale Gardens\n122        M9L   North York             Humber Summit\n139        M9M   North York                 Humberlea\n138        M9M   North York                     Emery\n150        M9N         York                    Weston\n163        M9P    Etobicoke                 Westmount\n178        M9R    Etobicoke          Richview Gardens\n176        M9R    Etobicoke         Kingsview Village\n179        M9R    Etobicoke              St. Phillips\n177        M9R    Etobicoke      Martin Grove Gardens\n228        M9V    Etobicoke            Albion Gardens\n229        M9V    Etobicoke          Beaumond Heights\n230        M9V    Etobicoke                Humbergate\n231        M9V    Etobicoke                 Jamestown\n232        M9V    Etobicoke               Mount Olive\n234        M9V    Etobicoke             South Steeles\n235        M9V    Etobicoke               Thistletown\n233        M9V    Etobicoke               Silverstone\n245        M9W    Etobicoke                 Northwest\n\n[211 rows x 3 columns]"
                    }, 
                    "output_type": "execute_result"
                }
            ], 
            "source": "# remove rows where Borough not assigned\nnew_table = new_table[new_table.Borough != 'Not assigned']\nnew_table.sort_values(by=['PostalCode'], axis=0, inplace=True)\n\n# if Neighborhood is unassigned, set it to Borough\nnot_assigned = new_table[new_table['Neighborhood']==\"Not assigned\"]\nnew_table.iloc[not_assigned.index, 2] = new_table.iloc[not_assigned.index, 1]\n\nnew_table"
        }, 
        {
            "source": "## 3. Build the structured per instruction", 
            "cell_type": "markdown", 
            "metadata": {}
        }, 
        {
            "source": "Find the unique Postal Codes and then combine the Neighborhood if Borough is the same ", 
            "cell_type": "markdown", 
            "metadata": {}
        }, 
        {
            "execution_count": 4, 
            "cell_type": "code", 
            "metadata": {}, 
            "outputs": [
                {
                    "output_type": "stream", 
                    "name": "stdout", 
                    "text": "    PostalCode           Borough  \\\n0          M1B       Scarborough   \n1          M1C       Scarborough   \n2          M1E       Scarborough   \n3          M1G       Scarborough   \n4          M1H       Scarborough   \n5          M1J       Scarborough   \n6          M1K       Scarborough   \n7          M1L       Scarborough   \n8          M1M       Scarborough   \n9          M1N       Scarborough   \n10         M1P       Scarborough   \n11         M1R       Scarborough   \n12         M1S       Scarborough   \n13         M1T       Scarborough   \n14         M1V       Scarborough   \n15         M1W       Scarborough   \n16         M1X       Scarborough   \n17         M2H        North York   \n18         M2J        North York   \n19         M2K        North York   \n20         M2L        North York   \n21         M2M        North York   \n22         M2N        North York   \n23         M2P        North York   \n24         M2R        North York   \n25         M3A        North York   \n26         M3B        North York   \n27         M3C        North York   \n28         M3H        North York   \n29         M3J        North York   \n..         ...               ...   \n73         M6C              York   \n74         M6E              York   \n75         M6G  Downtown Toronto   \n76         M6H      West Toronto   \n77         M6J      West Toronto   \n78         M6K      West Toronto   \n79         M6L        North York   \n80         M6M              York   \n81         M6N              York   \n82         M6P      West Toronto   \n83         M6R      West Toronto   \n84         M6S      West Toronto   \n85         M7A      Queen's Park   \n86         M7R       Mississauga   \n87         M7Y      East Toronto   \n88         M8V         Etobicoke   \n89         M8W         Etobicoke   \n90         M8X         Etobicoke   \n91         M8Y         Etobicoke   \n92         M8Z         Etobicoke   \n93         M9A         Etobicoke   \n94         M9B         Etobicoke   \n95         M9C         Etobicoke   \n96         M9L        North York   \n97         M9M        North York   \n98         M9N              York   \n99         M9P         Etobicoke   \n100        M9R         Etobicoke   \n101        M9V         Etobicoke   \n102        M9W         Etobicoke   \n\n                                          Neighborhood  \n0                                       Rouge, Malvern  \n1               Port Union, Rouge Hill, Highland Creek  \n2                    Guildwood, Morningside, West Hill  \n3                                          Scarborough  \n4                                            Cedarbrae  \n5                                  Scarborough Village  \n6          East Birchmount Park, Ionview, Kennedy Park  \n7                      Golden Mile, Oakridge, Clairlea  \n8      Cliffcrest, Scarborough Village West, Cliffside  \n9                          Cliffside West, Birch Cliff  \n10   Wexford Heights, Dorset Park, Scarborough Town...  \n11                                   Maryvale, Wexford  \n12                                           Agincourt  \n13             Sullivan, Clarks Corners, Tam O'Shanter  \n14   Milliken, Agincourt North, L'Amoreaux East, St...  \n15                                     L'Amoreaux West  \n16                                         Upper Rouge  \n17                                   Hillcrest Village  \n18                        Fairview, Oriole, Henry Farm  \n19                                     Bayview Village  \n20                            Silver Hills, York Mills  \n21                             Willowdale, Newtonbrook  \n22                                    Willowdale South  \n23                                     York Mills West  \n24                                     Willowdale West  \n25                                           Parkwoods  \n26                                     Don Mills North  \n27                    Don Mills South, Flemingdon Park  \n28     Wilson Heights, Downsview North, Bathurst Manor  \n29                     Northwood Park, York University  \n..                                                 ...  \n73                                  Humewood-Cedarvale  \n74                                 Caledonia-Fairbanks  \n75                                            Christie  \n76                        Dovercourt Village, Dufferin  \n77                            Trinity, Little Portugal  \n78        Exhibition Place, Brockton, Parkdale Village  \n79                  North Park, Downsview, Upwood Park  \n80      Silverthorn, Mount Dennis, Keelesdale, Del Ray  \n81                       The Junction North, Runnymede  \n82                       High Park, The Junction South  \n83                              Roncesvalles, Parkdale  \n84                                  Runnymede, Swansea  \n85                                        Not assigned  \n86               Canada Post Gateway Processing Centre  \n87   Business Reply Mail Processing Centre 969 Eastern  \n88        Mimico South, New Toronto, Humber Bay Shores  \n89                              Long Branch, Alderwood  \n90       Old Mill North, Montgomery Road, The Kingsway  \n91   Old Mill South, King's Mill Park, Humber Bay, ...  \n92   Kingsway Park South West, Mimico NW, The Queen...  \n93                                    Islington Avenue  \n94   Cloverdale, West Deane Park, Princess Gardens,...  \n95   Old Burnhamthorpe, Markland Wood, Eringate, Bl...  \n96                                       Humber Summit  \n97                                    Humberlea, Emery  \n98                                              Weston  \n99                                           Westmount  \n100  Richview Gardens, Kingsview Village, St. Phill...  \n101  Albion Gardens, Beaumond Heights, Humbergate, ...  \n102                                          Northwest  \n\n[103 rows x 3 columns]\n"
                }
            ], 
            "source": "postal = new_table.groupby(['PostalCode', 'Borough']).size().reset_index(name='Neighborhood')\n\n#for matching\ncodes = new_table['PostalCode'].unique().tolist()\n\nfor i in range(len(postal)):\n    cut = new_table[new_table['PostalCode']==codes[i]]\n    postal.iloc[i,2] = cut.iloc[0,2]\n    for j in range(len(cut)-1):\n        postal.iloc[i,2] = postal.iloc[i,2] + ', ' + cut.iloc[j+1,2]\n\nprint(postal)"
        }, 
        {
            "execution_count": 5, 
            "cell_type": "code", 
            "metadata": {}, 
            "outputs": [
                {
                    "output_type": "stream", 
                    "name": "stdout", 
                    "text": "(103, 3)\n"
                }
            ], 
            "source": "print(postal.shape)"
        }
    ], 
    "metadata": {
        "kernelspec": {
            "display_name": "Python 3.5", 
            "name": "python3", 
            "language": "python"
        }, 
        "language_info": {
            "mimetype": "text/x-python", 
            "nbconvert_exporter": "python", 
            "version": "3.5.5", 
            "name": "python", 
            "file_extension": ".py", 
            "pygments_lexer": "ipython3", 
            "codemirror_mode": {
                "version": 3, 
                "name": "ipython"
            }
        }
    }, 
    "nbformat": 4
}